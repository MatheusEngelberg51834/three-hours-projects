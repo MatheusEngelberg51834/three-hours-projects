{
 "cells": [
  {
   "cell_type": "code",
   "execution_count": 1,
   "metadata": {},
   "outputs": [],
   "source": [
    "import numpy as np"
   ]
  },
  {
   "cell_type": "code",
   "execution_count": 4,
   "metadata": {},
   "outputs": [],
   "source": [
    "class Perceptron():\n",
    "    \n",
    "    def __init__(self, w, x, bias, output=False):\n",
    "        self.w = w\n",
    "        self.x = x\n",
    "        self.bias = bias\n",
    "        \n",
    "        if output is not False:\n",
    "            self.output = True\n",
    "        else:\n",
    "            self.output = False\n",
    "            \n",
    "    def forward_propagate(self):\n",
    "        \n",
    "        if self.output != True:\n",
    "            return self.bias + np.dot(np.transpose(x), w)\n",
    "        else:\n",
    "            return self.bias + np.dot(np.transpose(x), w) #add activaation function"
   ]
  },
  {
   "cell_type": "code",
   "execution_count": 10,
   "metadata": {},
   "outputs": [],
   "source": [
    " class Layer():\n",
    "        \n",
    "    def __init__(n_layers, n_perceptrons, input_x):\n",
    "        self.weights = np.array([np.zeros(len(self.x)) for _ in n_perceptrons])\n",
    "        self.layers_w = np.array([self.weights for _ in n_layers])\n",
    "        self.input_x = input_x\n",
    "    \n",
    "    @staticmethod\n",
    "    def gradient_descent(F, dF, d, eta, epochs):\n",
    "        for i in range(epochs):\n",
    "            gradient = dF(self.weights)\n",
    "            self.weights = self.weights - np.dot(eta, gradient)\n",
    "            print('iteration {}, w:{}'.format(i, self.weights))\n",
    "        return self.weights[-1]"
   ]
  },
  {
   "cell_type": "code",
   "execution_count": 6,
   "metadata": {},
   "outputs": [],
   "source": [
    "class ActivationFunctions():\n",
    "    \n",
    "    @staticmethod\n",
    "    def sigmoid():\n",
    "        pass"
   ]
  },
  {
   "cell_type": "code",
   "execution_count": 7,
   "metadata": {},
   "outputs": [],
   "source": [
    "class CostFunctions():\n",
    "    \n",
    "    @staticmethod\n",
    "    def MSE(x, partial_hypothesis, theta):\n",
    "        return 1 / len(input_x) * sum((partial_hypothesis(theta)[i] - body[1]) ** 2 for  i, body in enumerate(x))\n",
    "    \n",
    "    @staticmethod\n",
    "    def dMSE(x, partial_hypothesis, theta):\n",
    "        return sum((np.dot((partial_hypothesis(theta)[i] - body[1]), body[0]) for i, body in enumerate(x)))"
   ]
  },
  {
   "cell_type": "code",
   "execution_count": 8,
   "metadata": {},
   "outputs": [],
   "source": [
    "class Hypothesis():\n",
    "    \n",
    "    @staticmethod\n",
    "    def linear_regression_hypothesis(x, theta):\n",
    "        return sum(np.dot(x, theta) for x, _ in points)\n",
    "    \n",
    "    @staticmethod\n",
    "    def linear_regression_partil_hypothesis(x, theta):\n",
    "        return [np.dot(x, theta) for x, _ in points]"
   ]
  },
  {
   "cell_type": "code",
   "execution_count": null,
   "metadata": {},
   "outputs": [],
   "source": []
  }
 ],
 "metadata": {
  "kernelspec": {
   "display_name": "Python 3",
   "language": "python",
   "name": "python3"
  },
  "language_info": {
   "codemirror_mode": {
    "name": "ipython",
    "version": 3
   },
   "file_extension": ".py",
   "mimetype": "text/x-python",
   "name": "python",
   "nbconvert_exporter": "python",
   "pygments_lexer": "ipython3",
   "version": "3.8.5"
  }
 },
 "nbformat": 4,
 "nbformat_minor": 4
}
